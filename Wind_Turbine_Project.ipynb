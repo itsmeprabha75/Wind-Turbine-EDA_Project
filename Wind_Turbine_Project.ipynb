{
  "nbformat": 4,
  "nbformat_minor": 0,
  "metadata": {
    "colab": {
      "private_outputs": true,
      "provenance": [],
      "authorship_tag": "ABX9TyPK2IzksaOiVQq9gvt17r30",
      "include_colab_link": true
    },
    "kernelspec": {
      "name": "python3",
      "display_name": "Python 3"
    },
    "language_info": {
      "name": "python"
    }
  },
  "cells": [
    {
      "cell_type": "markdown",
      "metadata": {
        "id": "view-in-github",
        "colab_type": "text"
      },
      "source": [
        "<a href=\"https://colab.research.google.com/github/itsmeprabha75/Wind-Turbine-EDA_Project/blob/main/Wind_Turbine_Project.ipynb\" target=\"_parent\"><img src=\"https://colab.research.google.com/assets/colab-badge.svg\" alt=\"Open In Colab\"/></a>"
      ]
    },
    {
      "cell_type": "markdown",
      "source": [
        "Wind Turbine Failure Prediction - Exploratory Data Analysis\n",
        "==========================================================\n",
        "Author: B.AravindTeja\n",
        "Date: 21.9.2025\n",
        "Objective: Analyze wind turbine operational data to identify patterns\n",
        "          and factors contributing to turbine failures\n",
        "\n",
        "Dataset: Wind turbine operational data with features like1 Wind_speed,power,   temperature etc..\n"
      ],
      "metadata": {
        "id": "dLmYnTWKOp8o"
      }
    },
    {
      "cell_type": "markdown",
      "source": [
        "# Install & import all required libraries"
      ],
      "metadata": {
        "id": "hjbtIUSi6XyS"
      }
    },
    {
      "cell_type": "markdown",
      "source": [
        "# Data manipulation and analysis using DataFrames"
      ],
      "metadata": {
        "id": "X_Z6d8yT6gK_"
      }
    },
    {
      "cell_type": "code",
      "source": [
        "import pandas as pd"
      ],
      "metadata": {
        "id": "_OekGS6A6bHO"
      },
      "execution_count": null,
      "outputs": []
    },
    {
      "cell_type": "markdown",
      "source": [
        "# Static plotting library for basic visualizations"
      ],
      "metadata": {
        "id": "bCObsL2-6wCV"
      }
    },
    {
      "cell_type": "code",
      "source": [
        "import matplotlib.pyplot as plt"
      ],
      "metadata": {
        "id": "kp2KY0KM64h3"
      },
      "execution_count": null,
      "outputs": []
    },
    {
      "cell_type": "markdown",
      "source": [
        " # Statistical data visualization with enhanced aesthetics"
      ],
      "metadata": {
        "id": "aQRQdNpS7Pv0"
      }
    },
    {
      "cell_type": "code",
      "source": [
        "import seaborn as sns"
      ],
      "metadata": {
        "id": "g83stVgd7Css"
      },
      "execution_count": null,
      "outputs": []
    },
    {
      "cell_type": "markdown",
      "source": [
        "# Interactive visualizations for exploratory data analysis"
      ],
      "metadata": {
        "id": "CSo-oBes7XTA"
      }
    },
    {
      "cell_type": "code",
      "source": [
        "import plotly.express as px"
      ],
      "metadata": {
        "id": "JhAeQJdf7bTY"
      },
      "execution_count": null,
      "outputs": []
    },
    {
      "cell_type": "markdown",
      "source": [
        " # Numerical computing, handling arrays, and mathematical operations"
      ],
      "metadata": {
        "id": "eafXMfyH7pL7"
      }
    },
    {
      "cell_type": "code",
      "source": [
        "import numpy as np"
      ],
      "metadata": {
        "id": "WDRcYT-U7tWg"
      },
      "execution_count": null,
      "outputs": []
    },
    {
      "cell_type": "markdown",
      "source": [
        "# High-level API for interactive web-based plotting"
      ],
      "metadata": {
        "id": "_uHwu3v57wuE"
      }
    },
    {
      "cell_type": "code",
      "source": [
        "import bokeh.plotting as bp"
      ],
      "metadata": {
        "id": "Zv-s0nYG71Ql"
      },
      "execution_count": null,
      "outputs": []
    },
    {
      "cell_type": "markdown",
      "source": [
        "# Custom models and widgets for enhancing Bokeh plots"
      ],
      "metadata": {
        "id": "KKE5HyKn8Cm-"
      }
    },
    {
      "cell_type": "code",
      "source": [
        "import bokeh.models as bm"
      ],
      "metadata": {
        "id": "qkTqaiF-8Gv_"
      },
      "execution_count": null,
      "outputs": []
    },
    {
      "cell_type": "markdown",
      "source": [
        "# Load Dataset"
      ],
      "metadata": {
        "id": "i_V-bHB68h5-"
      }
    },
    {
      "cell_type": "code",
      "source": [
        "df = pd.read_csv('/content/Wind_Turbine_2025.csv')"
      ],
      "metadata": {
        "id": "fc9JLR4M8cvm"
      },
      "execution_count": null,
      "outputs": []
    },
    {
      "cell_type": "markdown",
      "source": [
        "# Display information about dataset"
      ],
      "metadata": {
        "id": "mRUabgD79JI0"
      }
    },
    {
      "cell_type": "code",
      "source": [
        "df.info()"
      ],
      "metadata": {
        "id": "_lcEw8px8-9x"
      },
      "execution_count": null,
      "outputs": []
    },
    {
      "cell_type": "code",
      "source": [
        "df.head()"
      ],
      "metadata": {
        "id": "ZFWqTdg8947b"
      },
      "execution_count": null,
      "outputs": []
    },
    {
      "cell_type": "code",
      "source": [
        "df.tail()"
      ],
      "metadata": {
        "id": "VXAd98uT-BKk"
      },
      "execution_count": null,
      "outputs": []
    },
    {
      "cell_type": "code",
      "source": [
        "df.describe()"
      ],
      "metadata": {
        "id": "ifhiQ6pE-D5Q"
      },
      "execution_count": null,
      "outputs": []
    },
    {
      "cell_type": "code",
      "source": [
        "df.dtypes"
      ],
      "metadata": {
        "id": "whxiT0KK-Qnz"
      },
      "execution_count": null,
      "outputs": []
    },
    {
      "cell_type": "code",
      "source": [
        "df['date'] = df['date'].astype('datetime64[ns]')"
      ],
      "metadata": {
        "id": "hduYD079Bx-l"
      },
      "execution_count": null,
      "outputs": []
    },
    {
      "cell_type": "code",
      "source": [
        "df.dtypes"
      ],
      "metadata": {
        "id": "2UID6RcfEyF3"
      },
      "execution_count": null,
      "outputs": []
    },
    {
      "cell_type": "code",
      "source": [
        "df['Year'] = df['date'].dt.year"
      ],
      "metadata": {
        "id": "eaeyG1NqDw9g"
      },
      "execution_count": null,
      "outputs": []
    },
    {
      "cell_type": "code",
      "source": [
        "numerical_columns = df.select_dtypes(include = [np.number]).columns.tolist()"
      ],
      "metadata": {
        "id": "EAGgUlbUEJva"
      },
      "execution_count": null,
      "outputs": []
    },
    {
      "cell_type": "code",
      "source": [
        "numerical_columns"
      ],
      "metadata": {
        "id": "y1XYlfqaEs_7"
      },
      "execution_count": null,
      "outputs": []
    },
    {
      "cell_type": "code",
      "source": [
        "numerical_columns.remove('Year')"
      ],
      "metadata": {
        "id": "YKZwciD7E6r8"
      },
      "execution_count": null,
      "outputs": []
    },
    {
      "cell_type": "code",
      "source": [
        "numerical_columns"
      ],
      "metadata": {
        "id": "aNmsaLnSFB4M"
      },
      "execution_count": null,
      "outputs": []
    },
    {
      "cell_type": "code",
      "source": [
        "categorical_columns = df.select_dtypes(exclude=np.number).columns.tolist()"
      ],
      "metadata": {
        "id": "-i1f-HrFFFcQ"
      },
      "execution_count": null,
      "outputs": []
    },
    {
      "cell_type": "code",
      "source": [
        "categorical_columns"
      ],
      "metadata": {
        "id": "LlIg4yIlFlh_"
      },
      "execution_count": null,
      "outputs": []
    },
    {
      "cell_type": "code",
      "source": [
        "categorical_columns.remove('date')"
      ],
      "metadata": {
        "id": "XJAhxkzsF_W1"
      },
      "execution_count": null,
      "outputs": []
    },
    {
      "cell_type": "code",
      "source": [
        "categorical_columns"
      ],
      "metadata": {
        "id": "8wH-xTQEGFWT"
      },
      "execution_count": null,
      "outputs": []
    },
    {
      "cell_type": "markdown",
      "source": [
        "# Missing Values Analysis"
      ],
      "metadata": {
        "id": "DVG7sCuiGL-X"
      }
    },
    {
      "cell_type": "code",
      "source": [
        "missing_values = df.isnull().sum()"
      ],
      "metadata": {
        "id": "Hgv5mLtVGK7d"
      },
      "execution_count": null,
      "outputs": []
    },
    {
      "cell_type": "code",
      "source": [
        "missing_values"
      ],
      "metadata": {
        "id": "G14frUZJGcNT"
      },
      "execution_count": null,
      "outputs": []
    },
    {
      "cell_type": "code",
      "source": [
        "plt.figure(figsize = (12, 6))\n",
        "sns.heatmap(df.isnull(), cbar = False, cmap = 'viridis',  xticklabels = True)\n",
        "plt.xticks(rotation = 45, ha = 'right')\n",
        "plt.title(\"Missing Values Heatmap\")\n",
        "plt.show()"
      ],
      "metadata": {
        "id": "OE9ziM_rGpvc"
      },
      "execution_count": null,
      "outputs": []
    },
    {
      "cell_type": "markdown",
      "source": [
        "# Business Moments - Univariate"
      ],
      "metadata": {
        "id": "7EoIpe-LH25I"
      }
    },
    {
      "cell_type": "code",
      "source": [
        "for col in numerical_columns:\n",
        "    print(f\"\\\\nStatistics for {col}:\")\n",
        "    print(f\"Mean : {df[col].mean()}\")\n",
        "    print(f\"Median : {df[col].median()}\")\n",
        "    print(f\"Mode : {df[col].mode()[0]}\")\n",
        "    print(f\"Variance : {df[col].var()}\")\n",
        "    print(f\"Standard Deviation : {df[col].std()}\")\n",
        "    print(f\"Range : {df[col].max() - df[col].min()}\")\n",
        "    print(f\"Skewness : {df[col].skew()}\")\n",
        "    print(f\"Kurtosis : {df[col].kurt()}\")"
      ],
      "metadata": {
        "id": "sMXQ4wrlHxlY"
      },
      "execution_count": null,
      "outputs": []
    },
    {
      "cell_type": "markdown",
      "source": [
        "# Univariate Analysis & Outlier Detection"
      ],
      "metadata": {
        "id": "fvgK3arrIjZH"
      }
    },
    {
      "cell_type": "markdown",
      "source": [
        "# Histograms in One Window (Two Panes)\n",
        "# Calculate the number of rows needed for subplots"
      ],
      "metadata": {
        "id": "v9CQ_t4uIlGt"
      }
    },
    {
      "cell_type": "code",
      "source": [
        "n_rows = (len(numerical_columns) + 1) // 2"
      ],
      "metadata": {
        "id": "XbcA-iAhIeCS"
      },
      "execution_count": null,
      "outputs": []
    },
    {
      "cell_type": "code",
      "source": [
        "n_rows"
      ],
      "metadata": {
        "id": "HZhH8kj_I7AU"
      },
      "execution_count": null,
      "outputs": []
    },
    {
      "cell_type": "code",
      "source": [
        "fig, axes = plt.subplots(n_rows, 2, figsize = (12, n_rows * 4))\n",
        "axes = axes.flatten()\n",
        "#Loop through numerical columns to plot histograms\n",
        "for i, col in enumerate(numerical_columns):\n",
        "  sns.histplot(data=df, x=col,kde=True, ax= axes[i])\n",
        "  axes[i].set_xlabel(col, fontsize = 10)\n",
        "  axes[i].tick_params(axis = 'x', rotation = 45)\n",
        "#Adjust layout to prevent overlap\n",
        "plt.tight_layout()\n",
        "plt.show()\n"
      ],
      "metadata": {
        "id": "LTCumr-bI9Yo"
      },
      "execution_count": null,
      "outputs": []
    },
    {
      "cell_type": "markdown",
      "source": [
        "# Boxplots in Another Window"
      ],
      "metadata": {
        "id": "K6KHHg4wLTpI"
      }
    },
    {
      "cell_type": "code",
      "source": [
        "n_rows = (len(numerical_columns) + 1) // 2\n",
        "# Create a figure with subplots arranged in two columns\n",
        "fig, axes = plt.subplots(n_rows, 2, figsize = (12, n_rows * 4))\n",
        "axes = axes.flatten()  # Flatten axes to make iteration easier\n",
        "# Loop through numerical columns to plot boxplots\n",
        "for i, col in enumerate(numerical_columns):\n",
        "    sns.boxplot(x = df[col], ax = axes[i])  # Create boxplot\n",
        "    axes[i].set_xlabel(col, fontsize = 10)  # Set x-axis label to column name\n",
        "    axes[i].tick_params(axis = 'x', rotation = 45)  # Rotate x-axis labels for better readability\n",
        "# Adjust layout to prevent overlap\n",
        "plt.tight_layout()\n",
        "plt.show()"
      ],
      "metadata": {
        "id": "zclNIULPpiUI"
      },
      "execution_count": null,
      "outputs": []
    },
    {
      "cell_type": "code",
      "source": [
        "for i, col in enumerate(numerical_columns):\n",
        "    # Highlighting outliers\n",
        "    Q1 = df[col].quantile(0.25)\n",
        "    Q3 = df[col].quantile(0.75)\n",
        "    IQR = Q3 - Q1\n",
        "    outliers = df[(df[col] < (Q1 - 1.5 * IQR)) | (df[col] > (Q3 + 1.5 * IQR))]\n",
        "    print(f\"Outliers detected in {col}:\\n\", outliers[col])\n",
        "    plt.show()"
      ],
      "metadata": {
        "id": "O-TIWZPcLJ4X"
      },
      "execution_count": null,
      "outputs": []
    },
    {
      "cell_type": "code",
      "source": [
        "for col in categorical_columns:\n",
        "    plt.figure(figsize = (6, 4))\n",
        "    sns.countplot(x = df[col])\n",
        "    plt.title(f\"Count of {col}\")\n",
        "    plt.show()"
      ],
      "metadata": {
        "id": "C_6GtL-9Lq22"
      },
      "execution_count": null,
      "outputs": []
    },
    {
      "cell_type": "markdown",
      "source": [
        "# Plotly Pie Chart"
      ],
      "metadata": {
        "id": "vYUL847yL6kT"
      }
    },
    {
      "cell_type": "code",
      "source": [
        "fig = px.pie(df, names = 'Failure_status', title = 'Pie Chart of Failure Status', hole = 0.3) # hole is size of center hole. Creates a donut chart with a 30% hole in the center.\n",
        "fig.show(renderer = \"colab\")"
      ],
      "metadata": {
        "id": "yI6AOtfCL0JG"
      },
      "execution_count": null,
      "outputs": []
    },
    {
      "cell_type": "markdown",
      "source": [
        "# Class imbalance bar plot using Bokeh"
      ],
      "metadata": {
        "id": "9dgLGllaPIJK"
      }
    },
    {
      "cell_type": "code",
      "source": [
        "p = bp.figure(x_range = list(df['Failure_status'].unique()), title = \"Class Imbalance in Failure Status\",\n",
        "              toolbar_location = \"below\", tools = \"zoom_in, zoom_out\") # tools specifies which tools are included in the toolbar.\n",
        "p.vbar(x = df['Failure_status'].unique(), top = df['Failure_status'].value_counts().values, width = 0.5) #vbar is vertical bar\n",
        "bp.show(p)"
      ],
      "metadata": {
        "id": "5vG6rphYPC5J"
      },
      "execution_count": null,
      "outputs": []
    },
    {
      "cell_type": "code",
      "source": [
        "p"
      ],
      "metadata": {
        "id": "j7-IOyCJPTqq"
      },
      "execution_count": null,
      "outputs": []
    },
    {
      "cell_type": "markdown",
      "source": [
        "# Bivariate Analysis (Both numeric, One numeric and one categorical)"
      ],
      "metadata": {
        "id": "I0tt4oIeVXvL"
      }
    },
    {
      "cell_type": "code",
      "source": [
        "# Create scatter plot\n",
        "plt.figure(figsize = (8, 6))  # Set figure size\n",
        "plt.scatter(df['Wind_speed'], df['Power'], alpha = 0.5)  # Scatter plot with transparency\n",
        "plt.xlabel('Wind Speed')  # Label for x-axis\n",
        "plt.ylabel('Power')  # Label for y-axis\n",
        "plt.title('Scatter Plot of Wind Speed vs Power')  # Set title\n",
        "plt.grid(True)  # Enable grid for better readability"
      ],
      "metadata": {
        "id": "5bbLZG7xVP_x"
      },
      "execution_count": null,
      "outputs": []
    },
    {
      "cell_type": "code",
      "source": [
        "# Create an interactive scatter plot using Plotly\n",
        "scatter = px.scatter(df,\n",
        "                     x = 'Wind_speed',\n",
        "                     y = 'Power',\n",
        "                     color = 'Failure_status',\n",
        "                     size_max = 60,\n",
        "                     title = 'Scatter Plot of Wind Speed vs Power')\n",
        "# Show the plot\n",
        "scatter.show(renderer = \"colab\")"
      ],
      "metadata": {
        "id": "T4Rk2YynVown"
      },
      "execution_count": null,
      "outputs": []
    },
    {
      "cell_type": "code",
      "source": [
        "sns.boxplot(x = df[\"Failure_status\"], y = df[\"Generator_speed\"])\n",
        "plt.title(\"Failure Status vs Generator Speed\")\n",
        "plt.show()"
      ],
      "metadata": {
        "id": "Ww6NYIAGV5jD"
      },
      "execution_count": null,
      "outputs": []
    },
    {
      "cell_type": "code",
      "source": [
        "sns.violinplot(x = df[\"Failure_status\"], y = df[\"Power\"])\n",
        "plt.title(\"Failure Status vs Power Distribution\")\n",
        "plt.show()\n"
      ],
      "metadata": {
        "id": "Uscg29jbWC_w"
      },
      "execution_count": null,
      "outputs": []
    },
    {
      "cell_type": "markdown",
      "source": [
        "# Multivariate Analysis"
      ],
      "metadata": {
        "id": "aBJxUiyxw1wW"
      }
    },
    {
      "cell_type": "code",
      "source": [
        "# Pairplot\n",
        "sns.pairplot(df[numerical_columns], diag_kind = \"kde\")\n",
        "plt.suptitle(\"Pairplot - Multivariate Analysis\")\n",
        "plt.show()\n"
      ],
      "metadata": {
        "id": "bJtsezXMWL8x"
      },
      "execution_count": null,
      "outputs": []
    },
    {
      "cell_type": "code",
      "source": [
        "# Correlation Heatmap\n",
        "sns.heatmap(df[numerical_columns].corr(), annot = True, cmap = 'coolwarm')\n",
        "plt.title(\"Correlation Heatmap\")\n",
        "plt.show()"
      ],
      "metadata": {
        "id": "beu3f-pwWfLA"
      },
      "execution_count": null,
      "outputs": []
    },
    {
      "cell_type": "markdown",
      "source": [
        "# Time Series Analysis"
      ],
      "metadata": {
        "id": "PS_aeNGh7k6_"
      }
    },
    {
      "cell_type": "code",
      "source": [
        "fig = px.line(df, x = 'date', y = 'Power', title = 'Power Generation Over Time', color = 'Failure_status')\n",
        "fig.show(renderer = \"colab\")"
      ],
      "metadata": {
        "id": "_jmHgCtgWtbe"
      },
      "execution_count": null,
      "outputs": []
    },
    {
      "cell_type": "code",
      "source": [
        "fig = px.line(df, x = 'date', y = 'Wind_speed', title = 'Wind Speed Over Time')\n",
        "fig.show(renderer = \"colab\")"
      ],
      "metadata": {
        "id": "yZvCaYyr7zqG"
      },
      "execution_count": null,
      "outputs": []
    },
    {
      "cell_type": "code",
      "source": [
        "sns.lineplot(x = df['date'], y = df['Power'], hue = df['Failure_status'])\n",
        "plt.title(\"Power Generation Trends by Failure Status\")\n",
        "plt.xticks(rotation = 45)\n",
        "plt.show()"
      ],
      "metadata": {
        "id": "wTIvTWaV78IV"
      },
      "execution_count": null,
      "outputs": []
    },
    {
      "cell_type": "markdown",
      "source": [
        "# Line Plots for All Numerical Columns in One Window"
      ],
      "metadata": {
        "id": "mMz_5_fU8ZJV"
      }
    },
    {
      "cell_type": "code",
      "source": [
        "n_rows = (len(numerical_columns) + 1) // 2  # Determine number of rows for subplots\n",
        "\n",
        "# Create a figure with subplots arranged in two columns\n",
        "fig, axes = plt.subplots(n_rows, 2, figsize = (12, n_rows * 4))\n",
        "axes = axes.flatten()\n",
        "\n",
        "# Loop through numerical columns to plot line charts\n",
        "for i, col in enumerate(numerical_columns):\n",
        "    sns.lineplot(data = df, x = 'date', y = col, hue = 'Failure_status', ax = axes[i])\n",
        "    axes[i].set_xlabel(\"Date\", fontsize = 10)\n",
        "    axes[i].set_ylabel(col, fontsize = 10)\n",
        "    axes[i].tick_params(axis = 'x', rotation = 45)\n",
        "    axes[i].set_title(f\"{col} Trends by Failure Status\")\n",
        "\n",
        "# Adjust layout to prevent overlap\n",
        "plt.tight_layout()\n",
        "plt.show()"
      ],
      "metadata": {
        "id": "Z_kVrfoA8T1j"
      },
      "execution_count": null,
      "outputs": []
    },
    {
      "cell_type": "markdown",
      "source": [
        "# Yearly Data Overlay for All Numerical Columns"
      ],
      "metadata": {
        "id": "YHhTSqbU9eWJ"
      }
    },
    {
      "cell_type": "code",
      "source": [
        "for col in numerical_columns:\n",
        "    plt.figure(figsize = (10, 6))\n",
        "    sns.lineplot(data = df, x = df['date'].dt.day_of_year, y = col, hue = df['Year'], palette = 'tab10')\n",
        "    plt.xlabel(\"Day of Year\")\n",
        "    plt.ylabel(col)\n",
        "    plt.title(f\"Yearly Trend of {col}\")\n",
        "    plt.legend(title = \"Year\")\n",
        "    plt.grid(True)\n",
        "    plt.show()"
      ],
      "metadata": {
        "id": "O0SdmozT9ZoZ"
      },
      "execution_count": null,
      "outputs": []
    },
    {
      "cell_type": "code",
      "source": [
        "# Lag Plot\n",
        "pd.plotting.lag_plot(df['Power'])\n",
        "plt.title(\"Lag Plot for Power\")\n",
        "plt.show()"
      ],
      "metadata": {
        "id": "39nJOxun_bsY"
      },
      "execution_count": null,
      "outputs": []
    },
    {
      "cell_type": "code",
      "source": [
        "# Groupby Aggregation\n",
        "grouped_df = df.groupby('Failure_status')[numerical_columns].mean()\n",
        "print(grouped_df)"
      ],
      "metadata": {
        "id": "TkNSGcTS_geB"
      },
      "execution_count": null,
      "outputs": []
    },
    {
      "cell_type": "markdown",
      "source": [
        "#AutoEDA\n"
      ],
      "metadata": {
        "id": "G1SHc_iG_3RV"
      }
    },
    {
      "cell_type": "code",
      "source": [
        "# pip install dtale   # In case of any error then please install werkzeug appropriate version (pip install werkzeug==2.0.3)\n",
        "!pip install dtale\n",
        "import dtale\n",
        "import pandas as pd\n",
        "\n",
        "# Read the CSV file into a DataFrame\n",
        "df = pd.read_csv(r'/content/Wind_Turbine_2025.csv')\n",
        "\n",
        "# Display the DataFrame using D-Tale\n",
        "d = dtale.show(df, host = 'localhost', port = 8000)\n",
        "\n",
        "# Open the browser to view the interactive D-Tale dashboard\n",
        "print(d)"
      ],
      "metadata": {
        "id": "Fx21N0Uq_rLt"
      },
      "execution_count": null,
      "outputs": []
    },
    {
      "cell_type": "markdown",
      "source": [
        "# Pandas Profiling"
      ],
      "metadata": {
        "id": "tJg2fC8jBq-K"
      }
    },
    {
      "cell_type": "code",
      "source": [
        "# pip install --upgrade ydata-profiling\n",
        "!pip install ydata_profiling\n",
        "import pandas as pd\n",
        "from ydata_profiling import ProfileReport\n",
        "import os\n",
        "\n",
        "# Read the CSV file into a DataFrame\n",
        "df = pd.read_csv(r'/content/Wind_Turbine_2025.csv')\n",
        "\n",
        "# Generate and save EDA report\n",
        "profile = ProfileReport(df, title = \"Wind Turbine EDA Report\", explorative = True)\n",
        "output_file = \"Wind_Turbine_Profile_Report.html\"\n",
        "profile.to_file(output_file)\n",
        "\n",
        "print(f\"✅ Report saved at: {os.path.abspath(output_file)}\") # Converting a Relative Path to an Absolute Path\n",
        "\n"
      ],
      "metadata": {
        "id": "C6LKYX82Bsc9"
      },
      "execution_count": null,
      "outputs": []
    },
    {
      "cell_type": "code",
      "source": [
        "duplicate = df.duplicated()"
      ],
      "metadata": {
        "id": "TMwfj9sInju6"
      },
      "execution_count": null,
      "outputs": []
    },
    {
      "cell_type": "code",
      "source": [
        "duplicate"
      ],
      "metadata": {
        "id": "WrQGMMH1pjvD"
      },
      "execution_count": null,
      "outputs": []
    },
    {
      "cell_type": "code",
      "source": [
        "sum(duplicate)"
      ],
      "metadata": {
        "id": "cF56aq4OpoU_"
      },
      "execution_count": null,
      "outputs": []
    },
    {
      "cell_type": "markdown",
      "source": [
        "#Handling missing values"
      ],
      "metadata": {
        "id": "EGr37nNUu4tM"
      }
    },
    {
      "cell_type": "code",
      "metadata": {
        "id": "3f975325"
      },
      "source": [
        "for col in numerical_columns:\n",
        "  median_val = df[col].median()\n",
        "  df[col].fillna(median_val, inplace = True)\n",
        "  # Save the cleaned DataFrame to a CSV file\n",
        "df.to_csv('wind_turbine_clearedNV.csv', index=False)\n",
        "print(\"Cleaned dataset saved as wind_turbine_clearedNV.csv\")\n"
      ],
      "execution_count": null,
      "outputs": []
    },
    {
      "cell_type": "code",
      "source": [
        "missing_values_after_imputation = df.isnull().sum()\n",
        "print(\"Missing values after imputation:\")\n",
        "print(missing_values_after_imputation)\n",
        "df.to_csv('wind_turbine_cleaned.csv', index=False)\n",
        "print(\"Cleaned dataset saved as wind_turbine_cleaned.csv\")"
      ],
      "metadata": {
        "id": "OnoTcVbCvOEu"
      },
      "execution_count": null,
      "outputs": []
    },
    {
      "cell_type": "code",
      "source": [
        "!pip install feature_engine\n",
        "from feature_engine.outliers import Winsorizer\n",
        "winsor_iqr = Winsorizer(capping_method = 'iqr',\n",
        "                        tail = 'both',\n",
        "                        fold = 1.5,\n",
        "                        variables = numerical_columns)"
      ],
      "metadata": {
        "id": "d4bHaYVvptQu"
      },
      "execution_count": null,
      "outputs": []
    },
    {
      "cell_type": "code",
      "source": [
        "df_s = winsor_iqr.fit_transform(df[numerical_columns])"
      ],
      "metadata": {
        "id": "FXasrkevsshY"
      },
      "execution_count": null,
      "outputs": []
    },
    {
      "cell_type": "code",
      "source": [
        "plt.figure(figsize=(14, 6))  # Wider figure to give ticks more room\n",
        "sns.boxplot(data=df_s[numerical_columns])\n",
        "plt.title(\"Boxplots After Winsorization\", fontsize=14)\n",
        "plt.xticks(rotation=45, ha='right')  # Rotate and align ticks\n",
        "plt.tight_layout()  # Adjust layout to prevent clipping\n",
        "plt.show()"
      ],
      "metadata": {
        "id": "FNeL_wfGvqyc"
      },
      "execution_count": null,
      "outputs": []
    },
    {
      "cell_type": "code",
      "source": [
        "# Calculating the variance of each numeric variable in the DataFrame\n",
        "df[numerical_columns].var()"
      ],
      "metadata": {
        "id": "uHuYeNIdw3ze"
      },
      "execution_count": null,
      "outputs": []
    },
    {
      "cell_type": "code",
      "source": [
        "# Checking if the variance of each numeric variable is equal to 0 and returning a boolean Series\n",
        "df[numerical_columns].var() == 0"
      ],
      "metadata": {
        "id": "st8OMuxPxLxq"
      },
      "execution_count": null,
      "outputs": []
    },
    {
      "cell_type": "markdown",
      "source": [
        "# Discretization"
      ],
      "metadata": {
        "id": "d5xEqOglxZ3r"
      }
    },
    {
      "cell_type": "code",
      "source": [
        "# Bin wind speed into categories\n",
        "bins = [0, 5, 10, 15, 25]\n",
        "labels = ['Very Low', 'Low', 'Medium', 'High']\n",
        "df['WindSpeed_Category'] = pd.cut(df['Wind_speed'], bins=bins, labels=labels)"
      ],
      "metadata": {
        "id": "mYagbVD0xUzR"
      },
      "execution_count": null,
      "outputs": []
    },
    {
      "cell_type": "code",
      "source": [
        "df['WindSpeed_Category']"
      ],
      "metadata": {
        "id": "Hvit8Dv9x5Y7"
      },
      "execution_count": null,
      "outputs": []
    },
    {
      "cell_type": "code",
      "source": [
        "# Define bins and labels for Ambient_temperature\n",
        "temp_bins = [-50, 0, 15, 30, 50]  # Adjust based on your data range\n",
        "temp_labels = ['Very Cold', 'Cold', 'Moderate', 'Hot']\n",
        "df['Ambient_temp_category'] = pd.cut(df['Ambient_temperature'], bins=temp_bins, labels=temp_labels)"
      ],
      "metadata": {
        "id": "NSNWObO6x98Q"
      },
      "execution_count": null,
      "outputs": []
    },
    {
      "cell_type": "code",
      "source": [
        "print(df['Ambient_temp_category'].value_counts())"
      ],
      "metadata": {
        "id": "s8mVe35zyZWa"
      },
      "execution_count": null,
      "outputs": []
    },
    {
      "cell_type": "code",
      "source": [
        "# Wind_direction → Compass sectors\n",
        "direction_bins = [0, 90, 180, 270, 360]\n",
        "direction_labels = ['North-East', 'East-South', 'South-West', 'West-North']\n",
        "df['Wind_direction_sector'] = pd.cut(df['Wind_direction'], bins=direction_bins, labels=direction_labels, include_lowest=True)\n",
        "\n"
      ],
      "metadata": {
        "id": "c77_bvcLybrh"
      },
      "execution_count": null,
      "outputs": []
    },
    {
      "cell_type": "code",
      "source": [
        "df['Wind_direction_sector']"
      ],
      "metadata": {
        "id": "YtNDgylpzAh3"
      },
      "execution_count": null,
      "outputs": []
    },
    {
      "cell_type": "code",
      "source": [
        "# Bearing_temperature\n",
        "df['Bearing_temp_category'] = pd.cut(df['Bearing_temperature'], bins=temp_bins, labels=temp_labels)"
      ],
      "metadata": {
        "id": "2CpH03lTzl0R"
      },
      "execution_count": null,
      "outputs": []
    },
    {
      "cell_type": "code",
      "source": [
        "df['Bearing_temp_category']"
      ],
      "metadata": {
        "id": "JAfyOs69zt9G"
      },
      "execution_count": null,
      "outputs": []
    },
    {
      "cell_type": "code",
      "source": [
        " # Nacelle_temperature\n",
        "df['Nacelle_temp_category'] = pd.cut(df['Nacelle_temperature'], bins=temp_bins, labels=temp_labels)"
      ],
      "metadata": {
        "id": "Of2b-Xd5zxNT"
      },
      "execution_count": null,
      "outputs": []
    },
    {
      "cell_type": "code",
      "source": [
        "df['Nacelle_temp_category']"
      ],
      "metadata": {
        "id": "Q_G1GYt_z_vi"
      },
      "execution_count": null,
      "outputs": []
    },
    {
      "cell_type": "code",
      "source": [
        "#  Wind_hub_temperature\n",
        "df['Hub_temp_category'] = pd.cut(df['Wheel_hub_temperature'], bins=temp_bins, labels=temp_labels)"
      ],
      "metadata": {
        "id": "pEihiw2d0e_T"
      },
      "execution_count": null,
      "outputs": []
    },
    {
      "cell_type": "code",
      "source": [
        "df['Hub_temp_category']"
      ],
      "metadata": {
        "id": "VONsO77J0h3S"
      },
      "execution_count": null,
      "outputs": []
    },
    {
      "cell_type": "code",
      "source": [
        "# Inlet_temperature\n",
        "df['Inlet_temp_category'] = pd.cut(df['Gear_box_inlet_temperature'], bins=temp_bins, labels=temp_labels)"
      ],
      "metadata": {
        "id": "weBDcFuz0Y1K"
      },
      "execution_count": null,
      "outputs": []
    },
    {
      "cell_type": "code",
      "source": [
        "df['Inlet_temp_category']"
      ],
      "metadata": {
        "id": "WjjAimHv0x8U"
      },
      "execution_count": null,
      "outputs": []
    },
    {
      "cell_type": "code",
      "source": [
        "df.to_csv('wind_turbine_discretized.csv', index=False)\n",
        "print(\"Discretized columns saved to wind_turbine_discretized.csv\")"
      ],
      "metadata": {
        "id": "TYoa_DLL02HG"
      },
      "execution_count": null,
      "outputs": []
    },
    {
      "cell_type": "markdown",
      "source": [
        "Dummy Variables"
      ],
      "metadata": {
        "id": "V10rxLGh3B0K"
      }
    },
    {
      "cell_type": "code",
      "source": [
        "df.columns"
      ],
      "metadata": {
        "id": "ifTSjZHq2zwO"
      },
      "execution_count": null,
      "outputs": []
    },
    {
      "cell_type": "code",
      "source": [
        "df.shape"
      ],
      "metadata": {
        "id": "B1wllKnr3Pdl"
      },
      "execution_count": null,
      "outputs": []
    },
    {
      "cell_type": "code",
      "source": [
        "df_new = pd.get_dummies(df).astype('int64')"
      ],
      "metadata": {
        "id": "vD99hg7K3SsP"
      },
      "execution_count": null,
      "outputs": []
    },
    {
      "cell_type": "code",
      "source": [
        "df_new"
      ],
      "metadata": {
        "id": "2zzT67vh3eL-"
      },
      "execution_count": null,
      "outputs": []
    },
    {
      "cell_type": "code",
      "source": [
        "import pandas as pd\n",
        "# Importing the OneHotEncoder class from the sklearn.preprocessing module\n",
        "from sklearn.preprocessing import OneHotEncoder\n",
        "\n",
        "# Read the CSV file into a DataFrame\n",
        "df = pd.read_csv(r'/content/Wind_Turbine_2025.csv')\n",
        "\n",
        "# Creating an instance of the OneHotEncoder\n",
        "enc = OneHotEncoder(sparse_output = False) # initializing method\n",
        "# setting sparse_output=False explicitly instructs the OneHotEncoder to return a dense array instead of a sparse matrix.\n",
        "\n",
        "# Transforming the categorical columns (from Position column onwards) into one-hot encoded format and converting to DataFrame\n",
        "enc_df = pd.DataFrame(enc.fit_transform(df.iloc[:, 2:]), columns = enc.get_feature_names_out(input_features = df.iloc[:, 2:].columns))"
      ],
      "metadata": {
        "id": "-NAqeDkJ33OF"
      },
      "execution_count": null,
      "outputs": []
    },
    {
      "cell_type": "code",
      "source": [
        "enc_df"
      ],
      "metadata": {
        "id": "AH_VOir_4U3A"
      },
      "execution_count": null,
      "outputs": []
    },
    {
      "cell_type": "code",
      "source": [
        "# Importing pandas library for data manipulation\n",
        "import pandas as pd\n",
        "# Importing stats module from scipy library for statistical functions\n",
        "from scipy import stats\n",
        "\n",
        "# Importing seaborn and matplotlib.pyplot for plotting\n",
        "import seaborn as sns\n",
        "import matplotlib.pyplot as plt\n",
        "# Importing pylab module for creating plots\n",
        "import pylab\n",
        "\n",
        "# Read the CSV file into a DataFrame\n",
        "df = pd.read_csv(r'/content/Wind_Turbine_2025.csv')\n",
        "\n",
        "# Create a probability plot for a single numerical column (e.g., 'Power')\n",
        "prob = stats.probplot(df['Power'], dist = stats.norm, plot = pylab)"
      ],
      "metadata": {
        "id": "dmX4fr6V43Zw"
      },
      "execution_count": null,
      "outputs": []
    },
    {
      "cell_type": "code",
      "source": [
        "# Import the necessary transformer from feature_engine\n",
        "from feature_engine.transformation import YeoJohnsonTransformer\n",
        "\n",
        "# Set up the Yeo-Johnson transformer for 'Power' variable\n",
        "tf = YeoJohnsonTransformer(variables = 'Power')"
      ],
      "metadata": {
        "id": "PJPlELFM56ou"
      },
      "execution_count": null,
      "outputs": []
    },
    {
      "cell_type": "markdown",
      "source": [
        "Standardization and Normalization"
      ],
      "metadata": {
        "id": "2o65E8aC677y"
      }
    },
    {
      "cell_type": "code",
      "source": [
        "import pandas as pd\n",
        "df = pd.read_csv(r'/content/Wind_Turbine_2025.csv')\n",
        "numerical_columns = df.select_dtypes(include='number').columns.tolist()\n",
        "df_numerical = df[numerical_columns]\n",
        "from sklearn.preprocessing import StandardScaler\n",
        "\n",
        "# Initialize scaler\n",
        "scaler = StandardScaler()\n",
        "\n",
        "# Apply standardization\n",
        "df_standardized = pd.DataFrame(scaler.fit_transform(df_numerical), columns=numerical_columns)\n",
        "\n",
        "# Optional: Save standardized data\n",
        "df_standardized.to_csv('wind_turbine_standardized.csv', index=False)\n",
        "print(\"Standardized data saved to wind_turbine_standardized.csv\")"
      ],
      "metadata": {
        "id": "Os-5rgVA6LfS"
      },
      "execution_count": null,
      "outputs": []
    },
    {
      "cell_type": "code",
      "source": [
        "from sklearn.preprocessing import MinMaxScaler\n",
        "\n",
        "# Initialize scaler\n",
        "minmax = MinMaxScaler()\n",
        "\n",
        "# Apply normalization\n",
        "df_normalized = pd.DataFrame(minmax.fit_transform(df_numerical), columns=numerical_columns)\n",
        "\n",
        "# Optional: Save normalized data\n",
        "df_normalized.to_csv('wind_turbine_normalized.csv', index=False)\n",
        "print(\"Normalized data saved to wind_turbine_normalized.csv\")"
      ],
      "metadata": {
        "id": "_5WWQb4v6zSN"
      },
      "execution_count": null,
      "outputs": []
    }
  ]
}